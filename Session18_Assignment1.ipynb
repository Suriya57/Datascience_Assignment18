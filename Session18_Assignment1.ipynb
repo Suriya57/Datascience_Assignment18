{
 "cells": [
  {
   "cell_type": "code",
   "execution_count": 77,
   "metadata": {},
   "outputs": [
    {
     "name": "stdout",
     "output_type": "stream",
     "text": [
      "        High School  Bachelors  Masters  Ph.d  Total\n",
      "Female           60         54       46    41    201\n",
      "Male             40         44       53    57    194\n",
      "Total           100         98       99    98    395 \n",
      "\n",
      "The value of expected count is as follows : \n",
      "\n",
      "        High School  Bachelors  Masters    Ph.d  Total\n",
      "Female       50.886     49.868   50.377  49.868    201\n",
      "Male         49.114     48.132   48.623  48.132    194\n",
      "Total       100.000     98.000   99.000  98.000    395\n",
      "\n",
      "Calculating X2 now : \n",
      "\n",
      "8.0059071211091\n",
      "As 8.006 > 7.815, we can conclude that Null hypothesis can be rejected.Hence education level depends on gender at a 5 percentage level of significance.\n"
     ]
    }
   ],
   "source": [
    "# Gender independent of education level problem\n",
    "\n",
    "import scipy.stats as stats\n",
    "import numpy as np\n",
    "import pandas as pd\n",
    "import math as mt\n",
    "\n",
    "# The table of expected counts is obtained using (Row total * column total)/total_value\n",
    "index = ['Female','Male','Total']\n",
    "columns = ['High School','Bachelors','Masters','Ph.d','Total']\n",
    "orig_df = pd.DataFrame(index=index,columns=columns)\n",
    "orig_df['High School'] = [60,40,100]\n",
    "orig_df['Bachelors'] = [54,44,98]\n",
    "orig_df['Masters'] = [46,53,99]\n",
    "orig_df['Ph.d'] = [41,57,98]\n",
    "orig_df['Total'] = [201,194,395]\n",
    "print(orig_df,\"\\n\")\n",
    "exp_df = pd.DataFrame(index=index,columns=columns)\n",
    "exp_df['High School'] = [50.886,49.114,100]\n",
    "exp_df['Bachelors'] = [49.868,48.132,98]\n",
    "exp_df['Masters'] = [50.377,48.623,99]\n",
    "exp_df['Ph.d'] = [49.868,48.132,98]\n",
    "exp_df['Total'] = [201,194,395]\n",
    "print(\"The value of expected count is as follows : \\n\")\n",
    "print(exp_df)\n",
    "print(\"\\nCalculating X2 now : \\n\")\n",
    "female_x2 = (mt.pow((60-50.886),2)/50.886)+(mt.pow((54-49.868),2)/49.868)+(mt.pow((46-50.377),2)/50.377)+(mt.pow((41-49.868),2)/49.868)\n",
    "male_x2 = (mt.pow((40-49.114),2)/49.114)+(mt.pow((44-48.132),2)/48.132)+(mt.pow((53-48.623),2)/48.623)+(mt.pow((57-48.132),2)/48.132)\n",
    "X2 = female_x2+male_x2\n",
    "print(X2)\n",
    "# The critical value of x2 with 3 degree of freedom is 7.815\n",
    "print(\"As 8.006 > 7.815, we can conclude that Null hypothesis can be rejected.Hence education level depends on gender at a 5 percentage level of significance.\")"
   ]
  },
  {
   "cell_type": "code",
   "execution_count": 53,
   "metadata": {},
   "outputs": [
    {
     "name": "stdout",
     "output_type": "stream",
     "text": [
      "Sum of squared deviations from the mean (SS) for the groups :  [612.8, 515.2, 732.8]\n",
      "Sum of squares(SS_means) :  604.5866666666666\n",
      "3022.933333333333\n",
      "9.747205503009457\n",
      "The Annova table is as follows : \n",
      "   source           SS   df       MS        F\n",
      "0  group  3022.933333    2  1511.47  9.74721\n",
      "1  error  1860.800000   12  155.067      NaN\n",
      "2  total  4883.733333  NaN      NaN      NaN\n",
      "The effective size is :  0.618980015262844\n",
      "The APA write up is : F(2, 12)=9.75, p <0.05, n2=0.62\n"
     ]
    }
   ],
   "source": [
    "#Using the following data, perform a oneway analysis of variance using α=.05. Write up the results in APA format.\n",
    "#[Group1: 51, 45, 33, 45, 67]\n",
    "#[Group2: 23, 43, 23, 43, 45]\n",
    "#[Group3: 56, 76, 74, 87, 56]\n",
    "\n",
    "import scipy.stats as stats\n",
    "import numpy as np\n",
    "import pandas as pd\n",
    "\n",
    "a = [51, 45, 33, 45, 67]\n",
    "b = [23, 43, 23, 43, 45]\n",
    "c = [56, 76, 74, 87, 56]\n",
    "# finding the mean using numpy's mean()\n",
    "mean_a = np.mean(a)\n",
    "mean_b = np.mean(b)\n",
    "mean_c = np.mean(c)\n",
    "# finding the differences\n",
    "diff_a = a-mean_a\n",
    "diff_b = b-mean_b\n",
    "diff_c = c-mean_c\n",
    "# Squaring the differences\n",
    "square_dev_a = diff_a*diff_a\n",
    "square_dev_b = diff_b*diff_b\n",
    "square_dev_c = diff_c*diff_c\n",
    "# Obtaining the sum of square of differences\n",
    "ss = [sum(square_dev_a),sum(square_dev_b),sum(square_dev_c)]\n",
    "print(\"Sum of squared deviations from the mean (SS) for the groups : \",ss)\n",
    "var = [x/(5-1) for x in ss]\n",
    "MS_err = (sum(var)/3)\n",
    "df_error = 15-3\n",
    "# Calculating the remaining error for the ANOVA table\n",
    "SS_err = MS_err * (15-3)\n",
    "Grand_mean = (mean_a+mean_b+mean_c)/3\n",
    "mean_list = [mean_a,mean_b,mean_c]\n",
    "grand_diff = mean_list-Grand_mean\n",
    "grand_sq = grand_diff * grand_diff\n",
    "SS_means = sum(grand_sq)\n",
    "print(\"Sum of squares(SS_means) : \",SS_means)\n",
    "Var_means = SS_means/(3-1)\n",
    "MS_between = Var_means * 5\n",
    "df_group = 3-1\n",
    "SS_group = MS_between * (3-1)\n",
    "print(SS_group)\n",
    "F = MS_between/MS_err\n",
    "print(F)\n",
    "columns = ['source','SS','df','MS','F']\n",
    "Annova_df = pd.DataFrame(columns=columns)\n",
    "Annova_df['source'] = ['group','error','total']\n",
    "Annova_df['SS'] = [SS_group,SS_err,(SS_group+SS_err)]\n",
    "Annova_df['df'] = [df_group,df_error,'NaN']\n",
    "Annova_df['MS'] = [MS_between,MS_err,'NaN']\n",
    "Annova_df['F'] = [F,'NaN','NaN']\n",
    "print(\"The Annova table is as follows : \\n\",Annova_df)\n",
    "n2 = 3022.933333/4883.733333\n",
    "print(\"The effective size is : \",n2)\n",
    "print(\"The APA write up is : F(2, 12)=9.75, p <0.05, n2=0.62\")"
   ]
  },
  {
   "cell_type": "code",
   "execution_count": 4,
   "metadata": {},
   "outputs": [
    {
     "name": "stdout",
     "output_type": "stream",
     "text": [
      "4.0\n"
     ]
    },
    {
     "data": {
      "text/plain": [
       "F_onewayResult(statistic=3.6, pvalue=0.0943497728424377)"
      ]
     },
     "execution_count": 4,
     "metadata": {},
     "output_type": "execute_result"
    }
   ],
   "source": [
    "#Calculate F Test for given 10, 20, 30, 40, 50 and 5,10,15, 20, 25.For 10, 20, 30, 40, 50:\n",
    "\n",
    "import scipy.stats as stats\n",
    "import numpy as np\n",
    "\n",
    "# Getting the values as list\n",
    "a = [10, 20, 30, 40, 50]\n",
    "b = [5,10,15, 20, 25]\n",
    "# Calculating the variance of a using numpy's var function \n",
    "var_a = np.var(a)\n",
    "# Calculating the variance of b using numpy's var function\n",
    "var_b = np.var(b)\n",
    "# F_val is basically calculated as var(a)/var(b)\n",
    "f_val = var_a/var_b\n",
    "print(f_val)\n",
    "# Using the stats modules' f_oneway function to get the pvalue which is used in determining the Null hypothesis\n",
    "stats.f_oneway(a,b)"
   ]
  }
 ],
 "metadata": {
  "kernelspec": {
   "display_name": "Python 3",
   "language": "python",
   "name": "python3"
  },
  "language_info": {
   "codemirror_mode": {
    "name": "ipython",
    "version": 3
   },
   "file_extension": ".py",
   "mimetype": "text/x-python",
   "name": "python",
   "nbconvert_exporter": "python",
   "pygments_lexer": "ipython3",
   "version": "3.6.1"
  }
 },
 "nbformat": 4,
 "nbformat_minor": 2
}
